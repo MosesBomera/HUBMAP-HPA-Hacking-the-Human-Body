{
  "metadata": {
    "kernelspec": {
      "language": "python",
      "display_name": "Python 3",
      "name": "python3"
    },
    "language_info": {
      "name": "python",
      "version": "3.7.12",
      "mimetype": "text/x-python",
      "codemirror_mode": {
        "name": "ipython",
        "version": 3
      },
      "pygments_lexer": "ipython3",
      "nbconvert_exporter": "python",
      "file_extension": ".py"
    },
    "colab": {
      "provenance": [],
      "collapsed_sections": []
    }
  },
  "nbformat_minor": 0,
  "nbformat": 4,
  "cells": [
    {
      "cell_type": "markdown",
      "source": [
        "### SETUP"
      ],
      "metadata": {
        "id": "4_33p6OwoWiq"
      }
    },
    {
      "cell_type": "code",
      "source": [
        "%%capture\n",
        "!pip install segmentation-models-pytorch\n",
        "!pip install pytorch_lightning"
      ],
      "metadata": {
        "id": "cRC28h3uobIt"
      },
      "execution_count": null,
      "outputs": []
    },
    {
      "cell_type": "code",
      "source": [
        "from google.colab import drive\n",
        "drive.mount('/content/drive')"
      ],
      "metadata": {
        "id": "DT9seUfaoZD2"
      },
      "execution_count": null,
      "outputs": []
    },
    {
      "cell_type": "code",
      "source": [
        "# Set up kaggle credentials.\n",
        "!cp /content/drive/MyDrive/Kaggle/kaggle.json ~/.kaggle/\n",
        "!chmod 600 ~/.kaggle/kaggle.json"
      ],
      "metadata": {
        "id": "L34PKiwNphHm"
      },
      "execution_count": null,
      "outputs": []
    },
    {
      "cell_type": "code",
      "source": [
        "# Donwload the dataset.\n",
        "!kaggle competitions download -c hubmap-organ-segmentation"
      ],
      "metadata": {
        "id": "rwVxhipEqj-Q"
      },
      "execution_count": null,
      "outputs": []
    },
    {
      "cell_type": "code",
      "source": [
        "%%capture\n",
        "# Unzip the data.\n",
        "!unzip hubmap-organ-segmentation.zip\n",
        "!rm hubmap-organ-segmentation.zip"
      ],
      "metadata": {
        "id": "zXaImmmprT_N"
      },
      "execution_count": null,
      "outputs": []
    },
    {
      "cell_type": "markdown",
      "source": [
        "### LIBRARIES"
      ],
      "metadata": {
        "id": "BKr9csabmjr1"
      }
    },
    {
      "cell_type": "code",
      "source": [
        "import os, gc\n",
        "import numpy as np\n",
        "import pandas as pd\n",
        "import matplotlib.pyplot as plt\n",
        "\n",
        "# Dataset\n",
        "import albumentations as A\n",
        "from albumentations.pytorch import ToTensorV2\n",
        "\n",
        "# Model & Modelling\n",
        "import torch\n",
        "from torchvision.transforms import functional as F\n",
        "from torch.utils.data import DataLoader\n",
        "import pytorch_lightning as pl\n",
        "from sklearn.model_selection import StratifiedShuffleSplit\n",
        "\n",
        "# Utils\n",
        "from utils.dataset import HHHHBDataset\n",
        "from utils.model import HHHHBModel\n",
        "from utils.viz import plot_samples, plot_sample"
      ],
      "metadata": {
        "_uuid": "8f2839f25d086af736a60e9eeb907d3b93b6e0e5",
        "_cell_guid": "b1076dfc-b9ad-4769-8c92-a6c4dae69d19",
        "execution": {
          "iopub.status.busy": "2022-09-18T20:17:29.526021Z",
          "iopub.execute_input": "2022-09-18T20:17:29.526386Z",
          "iopub.status.idle": "2022-09-18T20:17:37.365664Z",
          "shell.execute_reply.started": "2022-09-18T20:17:29.526345Z",
          "shell.execute_reply": "2022-09-18T20:17:37.364418Z"
        },
        "trusted": true,
        "id": "6V7BApPumjr7"
      },
      "execution_count": null,
      "outputs": []
    },
    {
      "cell_type": "markdown",
      "source": [
        "### DATA\n",
        "Preliminary EDA [here.](https://www.kaggle.com/code/bomera/hhhhb-eda)"
      ],
      "metadata": {
        "id": "gOr-0bePmjr_"
      }
    },
    {
      "cell_type": "code",
      "source": [
        "data_path = '/content' # Path to the data.\n",
        "dataset = pd.read_csv(f\"{data_path}/train.csv\")\n",
        "test = pd.read_csv(f\"{data_path}/test.csv\")\n",
        "submission = pd.read_csv(f\"{data_path}/sample_submission.csv\")"
      ],
      "metadata": {
        "execution": {
          "iopub.status.busy": "2022-09-18T20:17:37.491866Z",
          "iopub.execute_input": "2022-09-18T20:17:37.493157Z",
          "iopub.status.idle": "2022-09-18T20:17:37.944119Z",
          "shell.execute_reply.started": "2022-09-18T20:17:37.493059Z",
          "shell.execute_reply": "2022-09-18T20:17:37.943038Z"
        },
        "trusted": true,
        "id": "n3d-JlWBmjsA"
      },
      "execution_count": null,
      "outputs": []
    },
    {
      "cell_type": "code",
      "source": [
        "# Add file paths.\n",
        "dataset['file_path'] = data_path + '/train_images/' + dataset['id'].astype(str) + '.tiff'"
      ],
      "metadata": {
        "execution": {
          "iopub.status.busy": "2022-09-18T20:17:37.948954Z",
          "iopub.execute_input": "2022-09-18T20:17:37.951736Z",
          "iopub.status.idle": "2022-09-18T20:17:37.965743Z",
          "shell.execute_reply.started": "2022-09-18T20:17:37.951696Z",
          "shell.execute_reply": "2022-09-18T20:17:37.964512Z"
        },
        "trusted": true,
        "id": "Ww1Y4FrymjsA"
      },
      "execution_count": null,
      "outputs": []
    },
    {
      "cell_type": "markdown",
      "source": [
        "### DATASET"
      ],
      "metadata": {
        "id": "InnPwaevmjsA"
      }
    },
    {
      "cell_type": "code",
      "source": [
        "# Test Augmentations.\n",
        "transforms = A.Compose([\n",
        "    A.Resize(640, 640),\n",
        "    A.VerticalFlip(0.5),\n",
        "    A.RandomRotate90(p=0.5),\n",
        "    A.ShiftScaleRotate(shift_limit=0.05, scale_limit=0.05, rotate_limit=15, p=0.5),\n",
        "    A.RGBShift(r_shift_limit=15, g_shift_limit=15, b_shift_limit=15, p=0.5),\n",
        "    A.RandomBrightnessContrast(p=0.5),\n",
        "    ToTensorV2()\n",
        "])\n",
        "\n",
        "# No transforms.\n",
        "hhhhb_dataset = HHHHBDataset(dataset, metadata=True) \n",
        "# Test transforms.\n",
        "hhhhb_datasetT= HHHHBDataset(dataset, transforms=transforms, metadata=True) \n",
        "len(hhhhb_datasetT), len(hhhhb_dataset)"
      ],
      "metadata": {
        "execution": {
          "iopub.status.busy": "2022-09-18T20:17:37.974108Z",
          "iopub.execute_input": "2022-09-18T20:17:37.974499Z",
          "iopub.status.idle": "2022-09-18T20:17:37.987250Z",
          "shell.execute_reply.started": "2022-09-18T20:17:37.974456Z",
          "shell.execute_reply": "2022-09-18T20:17:37.986226Z"
        },
        "trusted": true,
        "id": "0wFV9084mjsB"
      },
      "execution_count": null,
      "outputs": []
    },
    {
      "cell_type": "code",
      "source": [
        "plot_samples(hhhhb_dataset, indices=[1, 4, 5, 6], annotate=True, cols=4)"
      ],
      "metadata": {
        "execution": {
          "iopub.status.busy": "2022-09-18T20:17:37.988889Z",
          "iopub.execute_input": "2022-09-18T20:17:37.989852Z",
          "iopub.status.idle": "2022-09-18T20:17:50.474661Z",
          "shell.execute_reply.started": "2022-09-18T20:17:37.989810Z",
          "shell.execute_reply": "2022-09-18T20:17:50.472937Z"
        },
        "trusted": true,
        "id": "PusU4XwVmjsB"
      },
      "execution_count": null,
      "outputs": []
    },
    {
      "cell_type": "code",
      "source": [
        "plot_samples(hhhhb_datasetT, indices=[1, 4, 5, 6], annotate=True, cols=4, is_transformed=True)"
      ],
      "metadata": {
        "execution": {
          "iopub.status.busy": "2022-09-18T20:17:50.475630Z",
          "iopub.execute_input": "2022-09-18T20:17:50.475949Z",
          "iopub.status.idle": "2022-09-18T20:17:52.958795Z",
          "shell.execute_reply.started": "2022-09-18T20:17:50.475919Z",
          "shell.execute_reply": "2022-09-18T20:17:52.957384Z"
        },
        "trusted": true,
        "id": "9XD6QnlcmjsB"
      },
      "execution_count": null,
      "outputs": []
    },
    {
      "cell_type": "code",
      "source": [
        "# Clear RAM\n",
        "del hhhhb_dataset\n",
        "del hhhhb_datasetT\n",
        "gc.collect()"
      ],
      "metadata": {
        "execution": {
          "iopub.status.busy": "2022-09-18T20:17:52.960274Z",
          "iopub.execute_input": "2022-09-18T20:17:52.960897Z",
          "iopub.status.idle": "2022-09-18T20:17:53.183518Z",
          "shell.execute_reply.started": "2022-09-18T20:17:52.960861Z",
          "shell.execute_reply": "2022-09-18T20:17:53.182385Z"
        },
        "trusted": true,
        "id": "Qdl2O7QpmjsB"
      },
      "execution_count": null,
      "outputs": []
    },
    {
      "cell_type": "markdown",
      "source": [
        "#### VALIDATION SET"
      ],
      "metadata": {
        "id": "OuzuANW3mjsC"
      }
    },
    {
      "cell_type": "code",
      "source": [
        "# Check for distributions on organs and sex.\n",
        "dataset['organ'].value_counts(normalize=True)"
      ],
      "metadata": {
        "execution": {
          "iopub.status.busy": "2022-09-18T20:17:53.185541Z",
          "iopub.execute_input": "2022-09-18T20:17:53.185969Z",
          "iopub.status.idle": "2022-09-18T20:17:53.199092Z",
          "shell.execute_reply.started": "2022-09-18T20:17:53.185932Z",
          "shell.execute_reply": "2022-09-18T20:17:53.197585Z"
        },
        "trusted": true,
        "id": "7Sd9LjBbmjsC"
      },
      "execution_count": null,
      "outputs": []
    },
    {
      "cell_type": "code",
      "source": [
        "# Split across the organs.\n",
        "split = StratifiedShuffleSplit(n_splits=1, test_size=0.1, random_state=42)\n",
        "for train_idx, val_idx in split.split(dataset, dataset['organ']):\n",
        "    train, val = dataset.loc[train_idx].reset_index(drop=True), dataset.loc[val_idx].reset_index(drop=True)"
      ],
      "metadata": {
        "execution": {
          "iopub.status.busy": "2022-09-18T20:17:53.200761Z",
          "iopub.execute_input": "2022-09-18T20:17:53.201359Z",
          "iopub.status.idle": "2022-09-18T20:17:53.214359Z",
          "shell.execute_reply.started": "2022-09-18T20:17:53.201306Z",
          "shell.execute_reply": "2022-09-18T20:17:53.213347Z"
        },
        "trusted": true,
        "id": "Ro6fcTXDmjsC"
      },
      "execution_count": null,
      "outputs": []
    },
    {
      "cell_type": "code",
      "source": [
        "train['organ'].value_counts(normalize=True), val['organ'].value_counts(normalize=True)"
      ],
      "metadata": {
        "execution": {
          "iopub.status.busy": "2022-09-18T20:17:53.216051Z",
          "iopub.execute_input": "2022-09-18T20:17:53.216515Z",
          "iopub.status.idle": "2022-09-18T20:17:53.226152Z",
          "shell.execute_reply.started": "2022-09-18T20:17:53.216472Z",
          "shell.execute_reply": "2022-09-18T20:17:53.225209Z"
        },
        "trusted": true,
        "id": "q8wgmtTzmjsD"
      },
      "execution_count": null,
      "outputs": []
    },
    {
      "cell_type": "markdown",
      "source": [
        "### TRAINING"
      ],
      "metadata": {
        "id": "urIMN5YfmjsD"
      }
    },
    {
      "cell_type": "code",
      "source": [
        "num_workers = 2\n",
        "batch_size =  4\n",
        "\n",
        "# train transforms\n",
        "train_transforms = A.Compose([\n",
        "    A.Resize(640, 640),\n",
        "    A.VerticalFlip(0.5),\n",
        "    A.RandomRotate90(p=0.5),\n",
        "    A.ShiftScaleRotate(shift_limit=0.05, scale_limit=0.05, rotate_limit=15, p=0.5),\n",
        "    A.RGBShift(r_shift_limit=15, g_shift_limit=15, b_shift_limit=15, p=0.5),\n",
        "    A.RandomBrightnessContrast(p=0.5),\n",
        "    A.Normalize(\n",
        "        mean=[0.485, 0.456, 0.406],\n",
        "        std=[0.229, 0.224, 0.225],\n",
        "    ),\n",
        "    ToTensorV2()\n",
        "])\n",
        "\n",
        "# val transforms\n",
        "val_transforms = A.Compose([\n",
        "    A.Resize(640, 640),\n",
        "    A.Normalize(\n",
        "        mean=[0.485, 0.456, 0.406],\n",
        "        std=[0.229, 0.224, 0.225],\n",
        "    ),\n",
        "    ToTensorV2()\n",
        "])\n",
        "\n",
        "\n",
        "# Train set.\n",
        "train_loader = DataLoader(\n",
        "    HHHHBDataset(data=train, transforms=train_transforms), batch_size=batch_size, num_workers=num_workers,\n",
        "    shuffle=True,pin_memory=True)\n",
        "\n",
        "# Valid set.\n",
        "val_loader = DataLoader(\n",
        "    HHHHBDataset(data=val, transforms=val_transforms), batch_size=batch_size, num_workers=num_workers,\n",
        "    shuffle=False, pin_memory=True)"
      ],
      "metadata": {
        "execution": {
          "iopub.status.busy": "2022-09-18T20:41:36.424983Z",
          "iopub.execute_input": "2022-09-18T20:41:36.425408Z",
          "iopub.status.idle": "2022-09-18T20:41:36.440044Z",
          "shell.execute_reply.started": "2022-09-18T20:41:36.425371Z",
          "shell.execute_reply": "2022-09-18T20:41:36.437613Z"
        },
        "trusted": true,
        "id": "bdKN4ahKmjsD"
      },
      "execution_count": null,
      "outputs": []
    },
    {
      "cell_type": "code",
      "source": [
        "# Set up model object.\n",
        "hhhhb_model = HHHHBModel(\"unet\", \"resnet50\", in_channels=3, out_classes=1)\n",
        "\n",
        "# Set up call backs.\n",
        "checkpoint_callback = pl.callbacks.ModelCheckpoint(monitor=\"val_score\", mode=\"max\", verbose=True)\n",
        "early_stopping_callback = pl.callbacks.early_stopping.EarlyStopping(monitor=\"val_score\", patience=4, mode=\"max\",verbose=True)\n",
        "model_summary_callback = pl.callbacks.ModelSummary(max_depth=1)\n",
        "\n",
        "# Set up trainer.\n",
        "trainer = pl.Trainer(\n",
        "    accelerator=\"auto\",\n",
        "    callbacks=[checkpoint_callback, early_stopping_callback, model_summary_callback]\n",
        ")"
      ],
      "metadata": {
        "execution": {
          "iopub.status.busy": "2022-09-18T20:44:11.012848Z",
          "iopub.execute_input": "2022-09-18T20:44:11.013249Z",
          "iopub.status.idle": "2022-09-18T20:44:13.664093Z",
          "shell.execute_reply.started": "2022-09-18T20:44:11.013211Z",
          "shell.execute_reply": "2022-09-18T20:44:13.662093Z"
        },
        "trusted": true,
        "id": "yqcZFBaDmjsD"
      },
      "execution_count": null,
      "outputs": []
    },
    {
      "cell_type": "code",
      "source": [
        "# Fit the model.\n",
        "trainer.fit(\n",
        "    hhhhb_model, \n",
        "    train_dataloaders=train_loader, \n",
        "    val_dataloaders=val_loader,\n",
        ")"
      ],
      "metadata": {
        "execution": {
          "iopub.status.busy": "2022-09-18T20:44:14.771406Z",
          "iopub.execute_input": "2022-09-18T20:44:14.771791Z",
          "iopub.status.idle": "2022-09-18T20:46:44.904055Z",
          "shell.execute_reply.started": "2022-09-18T20:44:14.771756Z",
          "shell.execute_reply": "2022-09-18T20:46:44.894969Z"
        },
        "trusted": true,
        "collapsed": true,
        "id": "pORz0HAsmjsD"
      },
      "execution_count": null,
      "outputs": []
    },
    {
      "cell_type": "code",
      "source": [
        "# hhhhb_model.trainer.callbacks[0].best_score"
      ],
      "metadata": {
        "execution": {
          "iopub.status.busy": "2022-09-18T20:21:57.555144Z",
          "iopub.execute_input": "2022-09-18T20:21:57.555563Z",
          "iopub.status.idle": "2022-09-18T20:21:57.565835Z",
          "shell.execute_reply.started": "2022-09-18T20:21:57.555528Z",
          "shell.execute_reply": "2022-09-18T20:21:57.564838Z"
        },
        "trusted": true,
        "id": "FAyRZc3lmjsE"
      },
      "execution_count": null,
      "outputs": []
    },
    {
      "cell_type": "markdown",
      "source": [
        "### TENSORBOARD"
      ],
      "metadata": {
        "id": "mgbUXT7AmjsE"
      }
    },
    {
      "cell_type": "code",
      "source": [
        "# %load_ext tensorboard\n",
        "# %tensorboard --logdir ./lightning_logs/version_0"
      ],
      "metadata": {
        "execution": {
          "iopub.status.busy": "2022-09-18T20:21:47.991597Z",
          "iopub.execute_input": "2022-09-18T20:21:47.992164Z",
          "iopub.status.idle": "2022-09-18T20:21:47.996655Z",
          "shell.execute_reply.started": "2022-09-18T20:21:47.992127Z",
          "shell.execute_reply": "2022-09-18T20:21:47.995575Z"
        },
        "trusted": true,
        "id": "oNrEsAEomjsE"
      },
      "execution_count": null,
      "outputs": []
    },
    {
      "cell_type": "markdown",
      "source": [
        "#### Inference"
      ],
      "metadata": {
        "id": "epg7imJzmjsE"
      }
    },
    {
      "cell_type": "code",
      "source": [],
      "metadata": {
        "trusted": true,
        "id": "RWeTS7IYmjsE"
      },
      "execution_count": null,
      "outputs": []
    }
  ]
}